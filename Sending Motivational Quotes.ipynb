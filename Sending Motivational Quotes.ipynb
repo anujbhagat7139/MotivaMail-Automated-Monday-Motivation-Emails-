{
 "cells": [
  {
   "cell_type": "code",
   "execution_count": 2,
   "id": "3726ec1a",
   "metadata": {},
   "outputs": [],
   "source": [
    "import datetime as dt\n",
    "import smtplib\n",
    "import random\n",
    "\n",
    "now=dt.datetime.now()\n",
    "weekday=now.weekday()\n",
    "\n",
    "if weekday==0: #This linw will chose the Weekday 0 i.e Monday. taking like index value starting from 0.\n",
    "    with open(\"Motivational Quotes.txt\") as quotes:\n",
    "        all_quotes=quotes.readlines()\n",
    "        quotes=random.choice(all_quotes)\n",
    "\n",
    "        with smtplib.SMTP(\"smtp.gmail.com\") as connection:\n",
    "            connection.starttls()\n",
    "            connection.login(user=\"YOUR_OWN_EMAIL\",password=\"YOUR_OWN_GENERATED(APP_Password)\")\n",
    "            connection.sendmail(from_addr=\"YOUR_OWN_EMAIL\",to_addrs=\"RECIEVER_EMAIL_ADDRESS\",\n",
    "                                msg=f\"Subject:Monday Motivation\\n\\n{quotes}\")\n",
    "            connection.close()"
   ]
  },
  {
   "cell_type": "code",
   "execution_count": null,
   "id": "7bfa0c34",
   "metadata": {},
   "outputs": [],
   "source": [
    "|"
   ]
  }
 ],
 "metadata": {
  "kernelspec": {
   "display_name": "Python 3 (ipykernel)",
   "language": "python",
   "name": "python3"
  },
  "language_info": {
   "codemirror_mode": {
    "name": "ipython",
    "version": 3
   },
   "file_extension": ".py",
   "mimetype": "text/x-python",
   "name": "python",
   "nbconvert_exporter": "python",
   "pygments_lexer": "ipython3",
   "version": "3.9.12"
  }
 },
 "nbformat": 4,
 "nbformat_minor": 5
}
